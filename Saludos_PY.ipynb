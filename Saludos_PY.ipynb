{
  "nbformat": 4,
  "nbformat_minor": 0,
  "metadata": {
    "colab": {
      "provenance": [],
      "toc_visible": true,
      "mount_file_id": "1VeH7SdjIrizmai0TVAemKWcAWHT5PuJH",
      "authorship_tag": "ABX9TyMTwZuOtPJgQA7qJgDTl5c7",
      "include_colab_link": true
    },
    "kernelspec": {
      "name": "python3",
      "display_name": "Python 3"
    },
    "language_info": {
      "name": "python"
    }
  },
  "cells": [
    {
      "cell_type": "markdown",
      "metadata": {
        "id": "view-in-github",
        "colab_type": "text"
      },
      "source": [
        "<a href=\"https://colab.research.google.com/github/RTarriasR/Segundo_repositorio/blob/main/Saludos_PY.ipynb\" target=\"_parent\"><img src=\"https://colab.research.google.com/assets/colab-badge.svg\" alt=\"Open In Colab\"/></a>"
      ]
    },
    {
      "cell_type": "markdown",
      "source": [
        "1º) Saludamos"
      ],
      "metadata": {
        "id": "qYSzP3XHoSsn"
      }
    },
    {
      "cell_type": "code",
      "source": [
        "print (\"Hola Mundo\")"
      ],
      "metadata": {
        "colab": {
          "base_uri": "https://localhost:8080/"
        },
        "id": "UwBNjWV_oY31",
        "outputId": "f1cf754f-dd4a-4798-ebf1-36763b269054"
      },
      "execution_count": 1,
      "outputs": [
        {
          "output_type": "stream",
          "name": "stdout",
          "text": [
            "Hola Mundo\n"
          ]
        }
      ]
    },
    {
      "cell_type": "markdown",
      "source": [
        "2º) Pregunta y respuesta"
      ],
      "metadata": {
        "id": "hNc68dSvo-2m"
      }
    },
    {
      "cell_type": "code",
      "source": [
        "nombre=input(\"Cual es tu nombre: \")\n",
        "print(\"Tellamas...\",nombre)"
      ],
      "metadata": {
        "colab": {
          "base_uri": "https://localhost:8080/"
        },
        "id": "XD3fIXBHpQWM",
        "outputId": "7c6e0b83-a771-4f95-802e-0bab0e2f90a3"
      },
      "execution_count": 2,
      "outputs": [
        {
          "output_type": "stream",
          "name": "stdout",
          "text": [
            "Cual es tu nombre: Rafa\n",
            "Tellamas... Rafa\n"
          ]
        }
      ]
    },
    {
      "cell_type": "markdown",
      "source": [
        "Variables"
      ],
      "metadata": {
        "id": "soiWt-1rqtDW"
      }
    },
    {
      "cell_type": "code",
      "source": [
        "a =25 +36\n",
        "print (a)"
      ],
      "metadata": {
        "colab": {
          "base_uri": "https://localhost:8080/"
        },
        "id": "pwSshxP7sVTq",
        "outputId": "44eba7e1-be8b-4925-9b29-593079254573"
      },
      "execution_count": 12,
      "outputs": [
        {
          "output_type": "stream",
          "name": "stdout",
          "text": [
            "61\n"
          ]
        }
      ]
    },
    {
      "cell_type": "code",
      "source": [
        "# @title Datos personales:\n",
        "Nombre = \"Rafa\" # @param {type:\"string\"}\n",
        "Edad = 88 # @param {type:\"slider\", min:25, max:90, step:1}\n",
        "Pais = \"Italia\" # @param [\"Espana\", \"Italia\", \"Francia\", \"Alemania\"]\n",
        "\n",
        "\n"
      ],
      "metadata": {
        "id": "4Mn4VWkauarY"
      },
      "execution_count": 14,
      "outputs": []
    },
    {
      "cell_type": "code",
      "source": [
        "print ('Nombre', Nombre)\n",
        "print ('Edad', Edad)\n",
        "print ('Pais', Pais)"
      ],
      "metadata": {
        "colab": {
          "base_uri": "https://localhost:8080/"
        },
        "id": "StTCz-YxxOLO",
        "outputId": "87b18731-6feb-491e-b81d-c81d0c06221e"
      },
      "execution_count": 17,
      "outputs": [
        {
          "output_type": "stream",
          "name": "stdout",
          "text": [
            "Nombre Rafa\n",
            "Edad 0\n",
            "Pais Italia\n"
          ]
        }
      ]
    },
    {
      "cell_type": "markdown",
      "source": [
        "## Graficas:"
      ],
      "metadata": {
        "id": "E8kpJxx4yPfK"
      }
    },
    {
      "cell_type": "code",
      "source": [
        "from matplotlib import pyplot as plt\n",
        "plt.pie([45, 25, 25, 25], labels = ['España', 'Francia', 'Italia', 'Alemania'])\n",
        "plt.show()"
      ],
      "metadata": {
        "colab": {
          "base_uri": "https://localhost:8080/",
          "height": 406
        },
        "id": "PXlFEDdkyawD",
        "outputId": "69ecc3b7-29b1-4b25-f988-46d64493c06a"
      },
      "execution_count": 19,
      "outputs": [
        {
          "output_type": "display_data",
          "data": {
            "text/plain": [
              "<Figure size 640x480 with 1 Axes>"
            ],
            "image/png": "[encoded data removed]"
          },
          "metadata": {}
        }
      ]
    },
    {
      "cell_type": "markdown",
      "source": [
        "https://youtu.be/b9yi63T4KNI?t=2199"
      ],
      "metadata": {
        "id": "psOGnAIoz-0h"
      }
    }
  ]
}